{
 "cells": [
  {
   "cell_type": "code",
   "execution_count": 6,
   "metadata": {},
   "outputs": [],
   "source": [
    "import numpy as np"
   ]
  },
  {
   "cell_type": "code",
   "execution_count": 16,
   "metadata": {},
   "outputs": [
    {
     "name": "stdout",
     "output_type": "stream",
     "text": [
      "A\n",
      " [[ 18  -9   0   0   0]\n",
      " [  2  -9  -4   0   0]\n",
      " [  0  -9  21  -8   0]\n",
      " [  0   0  -4 -10   5]\n",
      " [  0   0   0   7  12]]\n",
      "B\n",
      " [[-81]\n",
      " [ 71]\n",
      " [-39]\n",
      " [ 64]\n",
      " [  3]]\n",
      "X\n",
      " [-8. -7. -6. -3.  2.]\n",
      "Проверка AX = B:\n",
      " [-81.  71. -39.  64.   3.]\n"
     ]
    }
   ],
   "source": [
    "def get_mat(file):\n",
    "    mat = []\n",
    "    answ = []\n",
    "    with open(file) as file_handler:\n",
    "        for line in file_handler:\n",
    "            row = list(map(int, line.split(',')[:-1]))\n",
    "            mat.append(row[:-1])\n",
    "            answ.append([row[-1]])\n",
    "        mat = np.asarray(mat)\n",
    "        answ = np.asarray(answ).reshape(-1,1)\n",
    "    return mat, answ\n",
    "\n",
    "def get_PQ(mat,answ):\n",
    "    P1 = -mat[0,1]/mat[0,0]\n",
    "    Q1 = answ[0,0]/mat[0,0]\n",
    "    size_mat = mat[:,0].size\n",
    "    i = 1\n",
    "    P = [P1]\n",
    "    Q = [Q1]\n",
    "    while i < size_mat-1:\n",
    "        P.append(-mat[i,i+1]/(mat[i,i]+mat[i,i-1]*P[i-1]))\n",
    "        Q.append((answ[i,0]-mat[i,i-1]*Q[i-1])/(mat[i,i]+mat[i,i-1]*P[i-1]))\n",
    "        i+=1\n",
    "    P.append(0)\n",
    "    Q.append((answ[i,0]-mat[i,i-1]*Q[i-1])/(mat[i,i]+mat[i,i-1]*P[i-1]))\n",
    "    return P, Q\n",
    "\n",
    "def method(size_mat, P, Q):\n",
    "    X = np.zeros(size_mat)\n",
    "    X[size_mat-1] = Q[size_mat-1]\n",
    "    i = size_mat-2\n",
    "    while i > -1:\n",
    "        X[i] = X[i+1]*P[i]+Q[i]\n",
    "        i-=1\n",
    "    return X\n",
    "\n",
    "\n",
    "def run(mat, answ):\n",
    "    size_mat = mat[:,0].size\n",
    "    answ = np.asarray(answ).reshape(-1,1)\n",
    "    P, Q = get_PQ(mat,answ)\n",
    "    X = method(size_mat, P, Q)\n",
    "    return X\n",
    "\n",
    "mat, answ = get_mat(\"test.txt\")\n",
    "mat = np.asarray(mat)\n",
    "answ = np.asarray(answ).reshape(-1,1)\n",
    "P, Q = get_PQ(mat,answ)\n",
    "size_mat = mat[:,0].size\n",
    "X = method(size_mat, P, Q)\n",
    "print(\"A\\n\", mat)\n",
    "print(\"B\\n\", answ)\n",
    "print(\"X\\n\", X)\n",
    "print(\"Проверка AX = B:\\n\", np.dot(mat,X))"
   ]
  },
  {
   "cell_type": "code",
   "execution_count": 12,
   "metadata": {},
   "outputs": [],
   "source": []
  },
  {
   "cell_type": "code",
   "execution_count": 15,
   "metadata": {},
   "outputs": [
    {
     "name": "stdout",
     "output_type": "stream",
     "text": [
      "A\n",
      " [[ 18  -9   0   0   0]\n",
      " [  2  -9  -4   0   0]\n",
      " [  0  -9  21  -8   0]\n",
      " [  0   0  -4 -10   5]\n",
      " [  0   0   0   7  12]]\n",
      "B\n",
      " [[-81]\n",
      " [ 71]\n",
      " [-39]\n",
      " [ 64]\n",
      " [  3]]\n",
      "X\n",
      " [-8. -7. -6. -3.  2.]\n",
      "Проверка AX = B:\n",
      " [-81.  71. -39.  64.   3.]\n"
     ]
    }
   ],
   "source": []
  },
  {
   "cell_type": "code",
   "execution_count": null,
   "metadata": {},
   "outputs": [],
   "source": []
  }
 ],
 "metadata": {
  "kernelspec": {
   "display_name": "Python 3",
   "language": "python",
   "name": "python3"
  },
  "language_info": {
   "codemirror_mode": {
    "name": "ipython",
    "version": 3
   },
   "file_extension": ".py",
   "mimetype": "text/x-python",
   "name": "python",
   "nbconvert_exporter": "python",
   "pygments_lexer": "ipython3",
   "version": "3.8.3"
  }
 },
 "nbformat": 4,
 "nbformat_minor": 4
}
