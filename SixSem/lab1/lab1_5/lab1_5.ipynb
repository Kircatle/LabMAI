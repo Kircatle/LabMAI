{
 "cells": [
  {
   "cell_type": "code",
   "execution_count": 4,
   "metadata": {},
   "outputs": [],
   "source": [
    "import numpy as np\n",
    "from numpy.linalg import eig"
   ]
  },
  {
   "cell_type": "code",
   "execution_count": 78,
   "metadata": {},
   "outputs": [
    {
     "name": "stdout",
     "output_type": "stream",
     "text": [
      "A:\n",
      " [[ 1  2  5]\n",
      " [-8  0 -6]\n",
      " [ 7 -9 -7]]\n",
      "Количество итераций:\n",
      " 19\n",
      "Первый собственный вектор:\n",
      " [-0.37956053 -0.36912596 -0.84833945]\n",
      "Собственные значения:\n",
      " [-11.909787271701685, 7.223770556763123, -1.2785266959322061]\n"
     ]
    }
   ],
   "source": [
    "def get_mat(file):\n",
    "    mat = []\n",
    "    answ = []\n",
    "    with open(file) as file_handler:\n",
    "        for line in file_handler:\n",
    "            row = list(map(int, line.split(',')[:-1]))\n",
    "            mat.append(row)\n",
    "    return np.array(mat)\n",
    "\n",
    "def get_v(column, size, k):\n",
    "    v = np.zeros(size)\n",
    "    v[k] = column[k]+np.sign(column[k])*np.sqrt(np.sum(column[k:]*column[k:]))\n",
    "    for i in range(k+1, size):\n",
    "        v[i] = column[i]\n",
    "    return v\n",
    "        \n",
    "\n",
    "def get_H(column, size, k):\n",
    "    v = get_v(column,size,k)[:, np.newaxis]\n",
    "    return np.eye(size) - 2*np.dot(v,v.T)/np.dot(v.T,v)\n",
    "    \n",
    "\n",
    "def get_A(H,A0):\n",
    "    return np.dot(H,A0)\n",
    "\n",
    "def get_QR(A):\n",
    "    size = A[:,1].size\n",
    "    Q = np.eye(size)\n",
    "    for i in range(size-1):\n",
    "        H = get_H(A[:,i],A[:,i].size,i)\n",
    "        A = get_A(H,A)\n",
    "        Q = np.dot(Q,H)\n",
    "    return Q,A\n",
    "\n",
    "def solve_equation(A, i):\n",
    "    size = A[:,1].size\n",
    "    if i+1 < size:\n",
    "        a12 = A[i][i + 1]\n",
    "        a21 = A[i + 1][i]\n",
    "        a22 = A[i + 1][i + 1]\n",
    "    else:\n",
    "        a12 = 0\n",
    "        a21 = 0\n",
    "        a22 = 0\n",
    "    a11 = A[i][i]\n",
    "    a = 1\n",
    "    b = -a11 - a22\n",
    "    c = a11 * a22 - a12 * a21\n",
    "    D = b*b-4*a*c\n",
    "    if D < 0:\n",
    "        l1 = (-b+np.sqrt(complex(D)))/2\n",
    "        l2 = (-b-np.sqrt(complex(D)))/2\n",
    "    else:\n",
    "        l1 = (-b+np.sqrt(D))/2\n",
    "        l2 = (-b-np.sqrt(D))/2\n",
    "    return np.array([l1,l2])\n",
    "\n",
    "\n",
    "def have_complex_lambda(A, eps, i):\n",
    "        Q, R = get_QR(A)\n",
    "        A1 = np.dot(R,Q)\n",
    "        lambda1 = solve_equation(A, i)\n",
    "        lambda2 = solve_equation(A1, i)\n",
    "        if np.all(abs(lambda1 - lambda2) <= eps) and isinstance(lambda1[0], complex) and isinstance(lambda2[0], complex):\n",
    "            return True\n",
    "        else:\n",
    "            return False\n",
    "\n",
    "def get_eig(A,eps,i,k,Qi):\n",
    "    while True:\n",
    "        Q, R = get_QR(A)\n",
    "        A = np.dot(R,Q)\n",
    "        k+=1\n",
    "        Qi.append(Q)\n",
    "        if np.sqrt(np.sum(A[i + 1:, i]*A[i + 1:, i])) <= eps:\n",
    "            return A[i,i], False, A, k\n",
    "        elif np.sqrt(np.sum(A[i + 2:, i]*A[i + 2:, i])) <= eps and have_complex_lambda(A, eps, i):\n",
    "            return solve_equation(A,i), True, A, k\n",
    "        \n",
    "def QR(A, eps):\n",
    "    eigs = []\n",
    "    i = 0\n",
    "    k = 0\n",
    "    c = 0\n",
    "    size = A[:,1].size\n",
    "    Qi = []\n",
    "    Q = np.eye(size)\n",
    "    while i < size:\n",
    "        eig = get_eig(A,eps,i,k, Qi)\n",
    "        k = eig[3]\n",
    "        if eig[1]:\n",
    "            eigs.append(eig[0])\n",
    "            i+=2\n",
    "        else:\n",
    "            eigs.append(eig[0])\n",
    "            i+=1\n",
    "        A = eig[2]\n",
    "    for Q_ in Qi:\n",
    "        Q = np.dot(Q,Q_)\n",
    "    return Q,eigs,k\n",
    "\n",
    "A = get_mat(\"test2.txt\") \n",
    "print(\"A:\\n\", A)\n",
    "Q, eigs,k = QR(A,0.1)\n",
    "print(\"Количество итераций:\\n\", k)\n",
    "print(\"Первый собственный вектор:\\n\", Q[0,:])\n",
    "print(\"Собственные значения:\\n\", eigs)"
   ]
  },
  {
   "cell_type": "code",
   "execution_count": null,
   "metadata": {},
   "outputs": [],
   "source": []
  },
  {
   "cell_type": "code",
   "execution_count": 75,
   "metadata": {},
   "outputs": [
    {
     "data": {
      "text/plain": [
       "(array([[-0.09365858,  0.35034395, -0.9319266 ],\n",
       "        [ 0.74926865, -0.59158426, -0.29769877],\n",
       "        [-0.65561007, -0.72614543, -0.2070948 ]]),\n",
       " array([[-10.67707825,   5.71317345,  -0.37463432],\n",
       "        [  0.        ,   7.23599676,  10.3842433 ],\n",
       "        [  0.        ,   0.        ,  -1.42377675]]))"
      ]
     },
     "execution_count": 75,
     "metadata": {},
     "output_type": "execute_result"
    }
   ],
   "source": [
    "np.linalg.qr(A)"
   ]
  },
  {
   "cell_type": "code",
   "execution_count": 76,
   "metadata": {},
   "outputs": [
    {
     "ename": "ModuleNotFoundError",
     "evalue": "No module named 'matrix'",
     "output_type": "error",
     "traceback": [
      "\u001b[1;31m---------------------------------------------------------------------------\u001b[0m",
      "\u001b[1;31mModuleNotFoundError\u001b[0m                       Traceback (most recent call last)",
      "\u001b[1;32m<ipython-input-76-95d1b6f6d0b2>\u001b[0m in \u001b[0;36m<module>\u001b[1;34m\u001b[0m\n\u001b[0;32m      2\u001b[0m \u001b[1;32mfrom\u001b[0m \u001b[0mnumpy\u001b[0m\u001b[1;33m.\u001b[0m\u001b[0mlinalg\u001b[0m \u001b[1;32mimport\u001b[0m \u001b[0mnorm\u001b[0m\u001b[1;33m\u001b[0m\u001b[1;33m\u001b[0m\u001b[0m\n\u001b[0;32m      3\u001b[0m \u001b[1;33m\u001b[0m\u001b[0m\n\u001b[1;32m----> 4\u001b[1;33m \u001b[1;32mfrom\u001b[0m \u001b[0mmatrix\u001b[0m \u001b[1;32mimport\u001b[0m \u001b[0mMatrix\u001b[0m\u001b[1;33m,\u001b[0m \u001b[0mVector\u001b[0m\u001b[1;33m\u001b[0m\u001b[1;33m\u001b[0m\u001b[0m\n\u001b[0m\u001b[0;32m      5\u001b[0m \u001b[1;33m\u001b[0m\u001b[0m\n\u001b[0;32m      6\u001b[0m \u001b[1;33m\u001b[0m\u001b[0m\n",
      "\u001b[1;31mModuleNotFoundError\u001b[0m: No module named 'matrix'"
     ]
    }
   ],
   "source": []
  },
  {
   "cell_type": "code",
   "execution_count": null,
   "metadata": {},
   "outputs": [],
   "source": []
  }
 ],
 "metadata": {
  "kernelspec": {
   "display_name": "Python 3",
   "language": "python",
   "name": "python3"
  },
  "language_info": {
   "codemirror_mode": {
    "name": "ipython",
    "version": 3
   },
   "file_extension": ".py",
   "mimetype": "text/x-python",
   "name": "python",
   "nbconvert_exporter": "python",
   "pygments_lexer": "ipython3",
   "version": "3.8.3"
  }
 },
 "nbformat": 4,
 "nbformat_minor": 4
}
