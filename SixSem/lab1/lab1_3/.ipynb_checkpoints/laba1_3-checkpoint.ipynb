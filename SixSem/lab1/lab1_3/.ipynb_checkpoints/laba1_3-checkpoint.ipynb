{
 "cells": [
  {
   "cell_type": "code",
   "execution_count": 2,
   "metadata": {},
   "outputs": [],
   "source": [
    "import numpy as np"
   ]
  },
  {
   "cell_type": "code",
   "execution_count": 30,
   "metadata": {},
   "outputs": [
    {
     "name": "stdout",
     "output_type": "stream",
     "text": [
      "A\n",
      " [[ 21  -6  -9  -4]\n",
      " [ -6  20  -4   2]\n",
      " [ -2  -7 -20   3]\n",
      " [  4   9   6  24]]\n",
      "B\n",
      " [[ 127]\n",
      " [-144]\n",
      " [ 236]\n",
      " [  -5]]\n",
      "Метод итераций:\n",
      " [[ 1.00270285]\n",
      " [-8.99953528]\n",
      " [-7.99796217]\n",
      " [ 4.99983671]] \n",
      "Число итераций  10\n",
      "\n",
      "Проверка AX = B:\n",
      " [[ 127.03628428]\n",
      " [-144.01540064]\n",
      " [ 235.95009473]\n",
      " [  -4.97669798]]\n",
      "Метод Зейделя:\n",
      " [[ 0.99854895]\n",
      " [-9.00123833]\n",
      " [-7.99943581]\n",
      " [ 5.00056517]] \n",
      "Число итераций  5\n",
      "\n",
      "Проверка AX = B:\n",
      " [[ 126.96961946]\n",
      " [-144.01718663]\n",
      " [ 236.00198206]\n",
      " [  -5.        ]]\n"
     ]
    }
   ],
   "source": [
    "def norm_matrix(matrix):\n",
    "    norm = 0\n",
    "    matrix_tmp = matrix.reshape(1,-1)[0]\n",
    "    for i in np.arange(0,matrix_tmp.size):\n",
    "        norm += matrix_tmp[i]*matrix_tmp[i]\n",
    "    return np.sqrt(norm)\n",
    "\n",
    "def get_BC(alpha):\n",
    "    alpha_size = alpha[:,0].size\n",
    "    B = np.zeros(alpha_size*alpha_size).reshape(alpha_size,alpha_size)\n",
    "    C = np.zeros(alpha_size*alpha_size).reshape(alpha_size,alpha_size)\n",
    "    for i in np.arange(0, alpha_size):\n",
    "        for j in np.arange(0, alpha_size):\n",
    "            if i <= j:\n",
    "                C[i,j] = alpha[i,j]\n",
    "                B[i,j] = 0\n",
    "            else:\n",
    "                C[i,j] = 0\n",
    "                B[i,j] = alpha[i,j]\n",
    "    return B,C\n",
    "\n",
    "def Zedel(alpha, betta, epsilon):\n",
    "#Метод Зейделя\n",
    "    k = 0\n",
    "    if norm_matrix(alpha) < 1:\n",
    "        x = betta.copy()\n",
    "        alpha_size = alpha[:,0].size\n",
    "        while True:\n",
    "            pre_x = x.copy()\n",
    "            for i in np.arange(0, alpha_size):\n",
    "                tmp = 0\n",
    "                for j in np.arange(0, alpha_size):\n",
    "                    tmp += alpha[i,j]*x[j,0]\n",
    "                x[i,0] = betta[i,0] + tmp\n",
    "            epsilon_i = norm_matrix(pre_x - x)\n",
    "            k += 1\n",
    "            if epsilon_i < epsilon or k > 100:\n",
    "                break\n",
    "\n",
    "    else:\n",
    "        print(\"Метод Зейделя не сходится\")\n",
    "    return x, k\n",
    "\n",
    "def iteration(alpha, betta, epsilon):\n",
    "    k = 0\n",
    "    if norm_matrix(alpha) < 1:\n",
    "        x = betta\n",
    "        while True:\n",
    "            pre_x = x\n",
    "            x = betta + np.dot(alpha, pre_x)\n",
    "            epsilon_i = norm_matrix(pre_x - x)\n",
    "            k += 1\n",
    "            if epsilon_i < epsilon or k > 100:\n",
    "                break\n",
    "    else:\n",
    "        print(\"Метод итераций не сходится\")\n",
    "    return x, k\n",
    "\n",
    "def get_alpha_betta(mat, answ):\n",
    "    i = 0\n",
    "    mat_size = mat[:,0].size\n",
    "    alpha = np.zeros(mat_size*mat_size).reshape(mat_size,mat_size)\n",
    "    betta = np.zeros(mat_size).reshape(-1,1)\n",
    "    for row in mat:\n",
    "        betta[i] = answ[i]/mat[i,i]\n",
    "        alpha[i] = -row/mat[i,i]\n",
    "        alpha[i,i] = 0\n",
    "        i += 1\n",
    "    return alpha, betta\n",
    "\n",
    "def get_mat(file):\n",
    "    mat = []\n",
    "    answ = []\n",
    "    with open(file) as file_handler:\n",
    "        for line in file_handler:\n",
    "            row = list(map(int, line.split(',')[:-1]))\n",
    "            mat.append(row[:-1])\n",
    "            answ.append([row[-1]])\n",
    "        mat = np.asarray(mat)\n",
    "        answ = np.asarray(answ).reshape(-1,1)\n",
    "    return mat, answ\n",
    "\n",
    "\n",
    "mat, answ = get_mat('test2.txt')\n",
    "alpha, betta = get_alpha_betta(mat,answ)\n",
    "epsilon = 0.01\n",
    "print(\"A\\n\", mat)\n",
    "print(\"B\\n\", answ)\n",
    "print(\"Метод итераций:\\n\", iteration(alpha, betta, epsilon)[0],\"\\nЧисло итераций \",iteration(alpha, betta, epsilon)[1])\n",
    "print(\"\\nПроверка AX = B:\\n\", np.dot(mat,iteration(alpha, betta, epsilon)[0]))\n",
    "print(\"Метод Зейделя:\\n\", Zedel(alpha, betta, epsilon)[0],\"\\nЧисло итераций \",Zedel(alpha, betta, epsilon)[1])\n",
    "print(\"\\nПроверка AX = B:\\n\", np.dot(mat,Zedel(alpha, betta, epsilon)[0]))"
   ]
  },
  {
   "cell_type": "code",
   "execution_count": 23,
   "metadata": {},
   "outputs": [],
   "source": []
  },
  {
   "cell_type": "code",
   "execution_count": 29,
   "metadata": {},
   "outputs": [
    {
     "name": "stdout",
     "output_type": "stream",
     "text": [
      "A\n",
      " [[ 21  -6  -9  -4]\n",
      " [ -6  20  -4   2]\n",
      " [ -2  -7 -20   3]\n",
      " [  4   9   6  24]]\n",
      "B\n",
      " [[ 127]\n",
      " [-144]\n",
      " [ 236]\n",
      " [  -5]]\n",
      "Метод итераций:\n",
      " [[ 1.00270285]\n",
      " [-8.99953528]\n",
      " [-7.99796217]\n",
      " [ 4.99983671]] \n",
      "Число итераций  10\n",
      "\n",
      "Проверка AX = B:\n",
      " [[ 127.03628428]\n",
      " [-144.01540064]\n",
      " [ 235.95009473]\n",
      " [  -4.97669798]]\n",
      "Метод Зейделя:\n",
      " [[ 0.99854895]\n",
      " [-9.00123833]\n",
      " [-7.99943581]\n",
      " [ 5.00056517]] \n",
      "Число итераций  5\n",
      "\n",
      "Проверка AX = B:\n",
      " [[ 126.96961946]\n",
      " [-144.01718663]\n",
      " [ 236.00198206]\n",
      " [  -5.        ]]\n"
     ]
    }
   ],
   "source": []
  },
  {
   "cell_type": "code",
   "execution_count": 17,
   "metadata": {},
   "outputs": [
    {
     "name": "stdout",
     "output_type": "stream",
     "text": [
      "(array([[ 0.99854895],\n",
      "       [-9.00123833],\n",
      "       [-7.99943581],\n",
      "       [ 5.00056517]]), 5)\n"
     ]
    }
   ],
   "source": [
    "print(Zedel(alpha, betta, epsilon))"
   ]
  },
  {
   "cell_type": "code",
   "execution_count": 6,
   "metadata": {},
   "outputs": [
    {
     "data": {
      "text/plain": [
       "array([[-8.96525917],\n",
       "       [-0.9536629 ],\n",
       "       [-6.77459924],\n",
       "       [ 3.60341034]])"
      ]
     },
     "execution_count": 6,
     "metadata": {},
     "output_type": "execute_result"
    }
   ],
   "source": []
  },
  {
   "cell_type": "code",
   "execution_count": 7,
   "metadata": {},
   "outputs": [
    {
     "data": {
      "text/plain": [
       "array([[-14,   6,   1,  -5],\n",
       "       [ -6,  27,   7,  -6],\n",
       "       [  7,  -5, -23,  -8],\n",
       "       [  3,  -8,   7,  26]])"
      ]
     },
     "execution_count": 7,
     "metadata": {},
     "output_type": "execute_result"
    }
   ],
   "source": [
    "mat"
   ]
  },
  {
   "cell_type": "code",
   "execution_count": 8,
   "metadata": {},
   "outputs": [
    {
     "data": {
      "text/plain": [
       "array([[ 95],\n",
       "       [-41],\n",
       "       [ 69],\n",
       "       [ 27]])"
      ]
     },
     "execution_count": 8,
     "metadata": {},
     "output_type": "execute_result"
    }
   ],
   "source": [
    "answ"
   ]
  },
  {
   "cell_type": "code",
   "execution_count": null,
   "metadata": {},
   "outputs": [],
   "source": []
  }
 ],
 "metadata": {
  "kernelspec": {
   "display_name": "Python 3",
   "language": "python",
   "name": "python3"
  },
  "language_info": {
   "codemirror_mode": {
    "name": "ipython",
    "version": 3
   },
   "file_extension": ".py",
   "mimetype": "text/x-python",
   "name": "python",
   "nbconvert_exporter": "python",
   "pygments_lexer": "ipython3",
   "version": "3.8.3"
  }
 },
 "nbformat": 4,
 "nbformat_minor": 4
}
