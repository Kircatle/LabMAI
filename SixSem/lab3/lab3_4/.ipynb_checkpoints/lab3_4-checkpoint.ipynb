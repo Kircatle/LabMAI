{
 "cells": [
  {
   "cell_type": "code",
   "execution_count": 1,
   "metadata": {},
   "outputs": [],
   "source": [
    "import numpy as np"
   ]
  },
  {
   "cell_type": "code",
   "execution_count": 23,
   "metadata": {},
   "outputs": [
    {
     "name": "stdout",
     "output_type": "stream",
     "text": [
      "y' (left) = 1.4142000000000001\n",
      "y' (right) = 1.3178999999999998\n",
      "y'' = -0.09630000000000027\n"
     ]
    }
   ],
   "source": [
    "def dx1_left(x, y, i):\n",
    "    return (y[i+1] - y[i]) / (x[i+1] - x[i])\n",
    "\n",
    "def dx1_right(x,y,i):\n",
    "    return (y[i+2] - y[i+1]) / (x[i+2] - x[i+1])\n",
    "\n",
    "def dx2(x, y, i):\n",
    "    a = dx1_right(x,y,i)\n",
    "    b = dx1_left(x,y,i)\n",
    "    c = x[i+2] - x[i]\n",
    "    return 2 * (a - b) /c\n",
    "    \n",
    "def main():\n",
    "    x = [0.0, 1.0, 2.0, 3.0, 4.0]\n",
    "    y = [0.0, 2.0, 3.4142, 4.7321, 6.0]\n",
    "    X = 2.0\n",
    "    for i in range(len(x)):\n",
    "        if ((x[i]<=X) and (X <=x[i+1])):\n",
    "            print(\"y' (left) = {}\".format(dx1_left(x, y, i)))\n",
    "            print(\"y' (right) = {}\".format(dx1_right(x, y, i)))\n",
    "            print(\"y'' = {}\".format(dx2(x, y, i)))\n",
    "            break\n",
    "\n",
    "if __name__ == \"__main__\":\n",
    "    main()"
   ]
  },
  {
   "cell_type": "code",
   "execution_count": null,
   "metadata": {},
   "outputs": [],
   "source": []
  }
 ],
 "metadata": {
  "kernelspec": {
   "display_name": "Python 3",
   "language": "python",
   "name": "python3"
  },
  "language_info": {
   "codemirror_mode": {
    "name": "ipython",
    "version": 3
   },
   "file_extension": ".py",
   "mimetype": "text/x-python",
   "name": "python",
   "nbconvert_exporter": "python",
   "pygments_lexer": "ipython3",
   "version": "3.8.3"
  }
 },
 "nbformat": 4,
 "nbformat_minor": 4
}
