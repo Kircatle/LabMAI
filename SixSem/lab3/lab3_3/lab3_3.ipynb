{
 "cells": [
  {
   "cell_type": "code",
   "execution_count": 368,
   "metadata": {},
   "outputs": [],
   "source": [
    "import numpy as np\n",
    "import sys\n",
    "import lu\n",
    "import matplotlib.pyplot as plt"
   ]
  },
  {
   "cell_type": "code",
   "execution_count": 387,
   "metadata": {},
   "outputs": [
    {
     "name": "stdout",
     "output_type": "stream",
     "text": [
      "x =  [0.1, 0.5, 0.9, 1.3, 1.7, 2.1]\n",
      "y =  [-2.2026, -0.19315, 0.79464, 1.5624, 2.2306, 2.8419]\n",
      "Первой степени\n",
      "(6.0a0)+(6.6a1)=5.03379\n",
      "(6.6a0)+(10.06a1)=12.189471000000001\n",
      "Значение функции в y: [-1.5368571428571425, -0.5865282857142855, 0.3638005714285715, 1.3141294285714284, 2.2644582857142854, 3.2147871428571424]\n",
      "F1(x) = -1.7744393571428567 + (2.3758221428571424x^1) \n",
      "(F-y)^2 = 0.9854121221771428\n",
      "\n",
      "Второй степени\n",
      "(6.0a0)+(6.6a1)+(10.06a2)=5.03379\n",
      "(6.6a0)+(10.06a1)+(17.226a2)=12.189471000000001\n",
      "(10.06a0)+(17.226a1)+(31.375000000000004a2)=22.193013899999997\n",
      "Значение функции в y:  [-2.029066071428557, -0.48808650000000064, 0.7575677142857058, 1.7078965714285623, 2.362900071428567, 2.722578214285723]\n",
      "F2(x) = -2.4604555513392667 + (4.406183973214236x^1) + (-0.9228917410714071x^2) \n",
      "(F-y)^2 = 0.17138616750928573\n",
      "\n"
     ]
    },
    {
     "data": {
      "image/png": "[encoded data removed]",
      "text/plain": [
       "<Figure size 432x288 with 1 Axes>"
      ]
     },
     "metadata": {
      "needs_background": "light"
     },
     "output_type": "display_data"
    },
    {
     "data": {
      "image/png": "[encoded data removed]",
      "text/plain": [
       "<Figure size 432x288 with 1 Axes>"
      ]
     },
     "metadata": {
      "needs_background": "light"
     },
     "output_type": "display_data"
    }
   ],
   "source": [
    "def get_system(x,y,N):\n",
    "    x = np.array(x)\n",
    "    y = np.array(y)\n",
    "    N += 1\n",
    "    n = x.size\n",
    "    A = np.zeros((N,N))\n",
    "    B = np.zeros((N,1))\n",
    "    for i in range(N):\n",
    "        B[i] = np.sum(y*x**i)\n",
    "        A[i,:] = [np.sum(x**(i+j)) for j in range(N)]\n",
    "        if i == 0:\n",
    "            A[0,0] = n\n",
    "    return A,B\n",
    "\n",
    "\n",
    "def print_system(A,B):\n",
    "    A = A.astype(str)\n",
    "    B = B.astype(str)\n",
    "    A1 = []\n",
    "    n = A[0].size\n",
    "    for i in range(n):\n",
    "        B[i] = str(B[i,0])\n",
    "        A[i,:] = [\"(\"+A[i,j]+\"a\"+str(j)+\")\" for j in range(n)]\n",
    "        print(\"+\".join(A[i,:])+\"=\"+B[i,0])\n",
    "\n",
    "        \n",
    "def print_equation(x):\n",
    "    n = len(x)\n",
    "    res = \"F\"+str(n-1)+str(\"(x)\")+\" = \"\n",
    "    for i in range(n):\n",
    "        if i == 0:\n",
    "             res+=str(x[0])+\" \"\n",
    "        else:\n",
    "            res+=\"+ (\"+str(x[i])+\"x^\"+str(i)+\") \"\n",
    "    print(res)\n",
    "\n",
    "\n",
    "def get_value(x,a):\n",
    "    n = len(a)\n",
    "    res = 0\n",
    "    for i in range(n):\n",
    "        res += x**i*a[i]\n",
    "    return res\n",
    "\n",
    "def get_deviation(x,y,a):\n",
    "    n = len(x)\n",
    "    res = 0\n",
    "    for i in range(n):\n",
    "        res += (get_value(x[i],a)-y[i])**2\n",
    "    return res\n",
    "\n",
    "\n",
    "def plot(x,y):\n",
    "    fig, ax = plt.subplots()\n",
    "    ax.plot(x,y)\n",
    "\n",
    "\n",
    "def main():\n",
    "    x = [0.1, 0.5, 0.9, 1.3, 1.7, 2.1]\n",
    "    y = [-2.2026, -0.19315, 0.79464, 1.5624, 2.2306, 2.8419]\n",
    "    n = len(x)\n",
    "    print(\"x = \", x)\n",
    "    print(\"y = \", y)\n",
    "    print(\"Первой степени\")\n",
    "    A,B = get_system(x,y,1)\n",
    "    print_system(A,B)\n",
    "    a = lu.solve(A,B)\n",
    "    y_new = [get_value(x[i],a) for i in range(n)]\n",
    "    fig, ax = plt.subplots()\n",
    "    ax.grid()\n",
    "    ax.plot(x,y_new)\n",
    "    ax.plot(x,y)\n",
    "    print(\"Значение функции в y:\", y_new)\n",
    "    print_equation(a)\n",
    "    print(\"(F-y)^2 = \" + str(get_deviation(x,y,a))+\"\\n\")\n",
    "    print(\"Второй степени\")\n",
    "    A,B = get_system(x,y,2)\n",
    "    print_system(A,B)\n",
    "    a = lu.solve(A,B)\n",
    "    y_new = [get_value(x[i],a) for i in range(n)]\n",
    "    fig, ax = plt.subplots()\n",
    "    ax.grid()\n",
    "    ax.plot(x,y_new)\n",
    "    ax.plot(x,y)\n",
    "    print(\"Значение функции в y: \", y_new)\n",
    "    print_equation(a)\n",
    "    print(\"(F-y)^2 = \" + str(get_deviation(x,y,a))+\"\\n\")\n",
    "\n",
    "    \n",
    "\n",
    "    \n",
    "if  __name__ == \"__main__\":\n",
    "    main()\n"
   ]
  },
  {
   "cell_type": "code",
   "execution_count": null,
   "metadata": {},
   "outputs": [],
   "source": []
  },
  {
   "cell_type": "code",
   "execution_count": null,
   "metadata": {},
   "outputs": [],
   "source": []
  }
 ],
 "metadata": {
  "kernelspec": {
   "display_name": "Python 3",
   "language": "python",
   "name": "python3"
  },
  "language_info": {
   "codemirror_mode": {
    "name": "ipython",
    "version": 3
   },
   "file_extension": ".py",
   "mimetype": "text/x-python",
   "name": "python",
   "nbconvert_exporter": "python",
   "pygments_lexer": "ipython3",
   "version": "3.8.3"
  }
 },
 "nbformat": 4,
 "nbformat_minor": 4
}
