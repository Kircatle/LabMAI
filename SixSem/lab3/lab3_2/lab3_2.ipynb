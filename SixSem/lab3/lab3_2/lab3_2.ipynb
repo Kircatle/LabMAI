{
 "cells": [
  {
   "cell_type": "code",
   "execution_count": 195,
   "metadata": {},
   "outputs": [],
   "source": [
    "import numpy as np\n"
   ]
  },
  {
   "cell_type": "code",
   "execution_count": 219,
   "metadata": {},
   "outputs": [],
   "source": [
    "def get_PQ(mat,answ):\n",
    "    P1 = -mat[0,1]/mat[0,0]\n",
    "    Q1 = answ[0,0]/mat[0,0]\n",
    "    size_mat = mat[:,0].size\n",
    "    i = 1\n",
    "    P = [P1]\n",
    "    Q = [Q1]\n",
    "    while i < size_mat-1:\n",
    "        P.append(-mat[i,i+1]/(mat[i,i]+mat[i,i-1]*P[i-1]))\n",
    "        Q.append((answ[i,0]-mat[i,i-1]*Q[i-1])/(mat[i,i]+mat[i,i-1]*P[i-1]))\n",
    "        i+=1\n",
    "    P.append(0)\n",
    "    Q.append((answ[i,0]-mat[i,i-1]*Q[i-1])/(mat[i,i]+mat[i,i-1]*P[i-1]))\n",
    "    return P, Q\n",
    "\n",
    "def method(size_mat, P, Q):\n",
    "    X = np.zeros(size_mat)\n",
    "    X[size_mat-1] = Q[size_mat-1]\n",
    "    i = size_mat-2\n",
    "    while i > -1:\n",
    "        X[i] = X[i+1]*P[i]+Q[i]\n",
    "        i-=1\n",
    "    return X\n",
    "\n",
    "def run_method(mat,answ):\n",
    "    size_mat = mat[:,0].size\n",
    "    answ = np.asarray(answ).reshape(-1,1)\n",
    "    P, Q = get_PQ(mat,answ)\n",
    "    X = method(size_mat, P, Q)\n",
    "    return X"
   ]
  },
  {
   "cell_type": "code",
   "execution_count": 249,
   "metadata": {},
   "outputs": [],
   "source": [
    "def h(i, x):\n",
    "    return x[i]-x[i-1]\n",
    "\n",
    "def getRow(i,x,f):\n",
    "    n = len(x)\n",
    "    A = np.zeros([n-2])\n",
    "\n",
    "    if i == 0:\n",
    "        A[0] = 2*(h(1, x)+h(2, x))\n",
    "        A[1] = h(2, x)\n",
    "        B = 3*(((f[2] - f[1]) / h(2, x)) - ((f[1] - f[0]) / h(1, x)))\n",
    "    elif i == n-3:\n",
    "        A[i-1] = h(n-2, x)\n",
    "        A[i] = 2*(h(n-2, x)+h(n-1, x))\n",
    "        B = 3*(((y[n-1] - y[n-2]) / h(n-1, x)) - ((y[n-2] - y[n-3]) / h(n-2, x)))\n",
    "    elif i > 0:\n",
    "        A[i-1] = h(i+1,x)\n",
    "        A[i] = 2*(h(i+1, x)+h(i+2, x))\n",
    "        A[i+1] = h(i+2,x)\n",
    "        B = 3*(((y[i+2] - y[i+1]) / h(i+2, x)) - ((y[i+1] - y[i]) / h(i+1, x)))\n",
    "    return A,B\n",
    "    \n",
    "def get_c(x, f):\n",
    "    A = []\n",
    "    B = []\n",
    "    c = np.zeros(len(x)-1)\n",
    "    for i in range(len(x)-2):\n",
    "        a_tmp, b_tmp = getRow(i,x,f)\n",
    "        A.append(a_tmp)\n",
    "        B.append(b_tmp)\n",
    "    c[1:] = run_method(np.array(A),np.array(B))\n",
    "    return c\n",
    "\n",
    "def get_a(x, y, c):\n",
    "    n = len(x)-1\n",
    "    a = np.zeros(n+1)\n",
    "    for i in range(1, n):\n",
    "        a[i-1] =  y[i-1]\n",
    "    a[n-1] = y[n-1]\n",
    "    return a\n",
    "\n",
    "def get_b(x, y, c):\n",
    "    n = len(x)-1\n",
    "    b = np.zeros(n+1)\n",
    "    for i in range(1, n):\n",
    "        b[i-1] = ((y[i] - y[i-1])/h(i,x)) - ((h(i,x)*(c[i] + 2*c[i-1]))/3)\n",
    "    b[n-1] = ( ((y[n] - y[n-1]) / h(n-1,x)) - 2*h(n-1,x)*c[n-1]/3 )\n",
    "    return b\n",
    "\n",
    "def get_d(x, y, c):\n",
    "    n = len(x)-1\n",
    "    d = np.zeros(n+1)\n",
    "    for i in range(1, n):\n",
    "        d[i-1] = (c[i] - c[i-1]) / (3*h(i,x))\n",
    "    d[n-1] = (-c[n-1]/(3*h(n-1, x)))\n",
    "    return d\n",
    "\n",
    "def get_spline(X, a, b, c, d, x):\n",
    "    n = len(x)\n",
    "    j = 0\n",
    "    for k in range(1,n):\n",
    "        if ((x[k]>=X)and(x[k-1]<=X)):\n",
    "            break;\n",
    "        j+=1\n",
    "    for i in range(n-1):\n",
    "        spline = \"{} + {}(x - {}) + {}(x - {})^2 + {}(x - {})^3\".format(a[i], b[i], x[i], c[i], x[i], d[i], x[i])\n",
    "        if (i==j):\n",
    "            spline+=\" V\"\n",
    "        print(spline)\n",
    "    t = X-x[j];\n",
    "    return a[j] + b[j]*t + c[j]*t*t + d[j]*t*t*t\n",
    "        "
   ]
  },
  {
   "cell_type": "code",
   "execution_count": 251,
   "metadata": {},
   "outputs": [
    {
     "name": "stdout",
     "output_type": "stream",
     "text": [
      "-2.2026 + 5.672925892857142(x - 0.1) + 0.0(x - 0.1)^2 + -4.05813058035714(x - 0.1)^3\n",
      "-0.19315 + 3.7250232142857134(x - 0.5) + -4.86975669642857(x - 0.5)^2 + 4.327215401785712(x - 0.5)^3 V\n",
      "0.79464 + 1.90628125(x - 0.9) + 0.3229017857142859(x - 0.9)^2 + -0.7252622767857143(x - 0.9)^3\n",
      "1.5624 + 1.8164767857142854(x - 1.3) + -0.5474129464285713(x - 1.3)^2 + 0.45617745535714266(x - 1.3)^3\n"
     ]
    },
    {
     "data": {
      "text/plain": [
       "0.6029136774553573"
      ]
     },
     "execution_count": 251,
     "metadata": {},
     "output_type": "execute_result"
    }
   ],
   "source": [
    "x = [0.1,0.5,0.9,1.3,1.7]\n",
    "y = [-2.2026,-0.19315,0.79464,1.5624,2.2306]\n",
    "X = 0.8\n",
    "c = get_c(x,y)\n",
    "a = get_a(x,y,c)\n",
    "b = get_b(x,y,c)\n",
    "d = get_d(x,y,c)\n",
    "get_spline(X, a, b, c, d, x)"
   ]
  },
  {
   "cell_type": "code",
   "execution_count": null,
   "metadata": {},
   "outputs": [],
   "source": []
  },
  {
   "cell_type": "code",
   "execution_count": null,
   "metadata": {},
   "outputs": [],
   "source": []
  }
 ],
 "metadata": {
  "kernelspec": {
   "display_name": "Python 3",
   "language": "python",
   "name": "python3"
  },
  "language_info": {
   "codemirror_mode": {
    "name": "ipython",
    "version": 3
   },
   "file_extension": ".py",
   "mimetype": "text/x-python",
   "name": "python",
   "nbconvert_exporter": "python",
   "pygments_lexer": "ipython3",
   "version": "3.8.3"
  }
 },
 "nbformat": 4,
 "nbformat_minor": 4
}
