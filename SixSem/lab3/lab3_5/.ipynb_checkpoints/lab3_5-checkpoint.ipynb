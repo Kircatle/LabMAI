{
 "cells": [
  {
   "cell_type": "code",
   "execution_count": 1,
   "metadata": {},
   "outputs": [],
   "source": [
    "import numpy as np"
   ]
  },
  {
   "cell_type": "code",
   "execution_count": 43,
   "metadata": {},
   "outputs": [
    {
     "name": "stdout",
     "output_type": "stream",
     "text": [
      "h = 0.5\n",
      "Метод прямоугольника: 0.010012325651611462\n",
      "Метод трапеции:0.010419470853869349\n",
      "Метод Симпсона0.010144630551783072\n",
      "\n",
      "h = 0.25\n",
      "Метод прямоугольника: 0.01011442236874015\n",
      "Метод трапеции:0.010215898252740406\n",
      "Метод Симпсона0.010148040719030757\n",
      "\n",
      "h = [0.5, 0.25]\n",
      "Уточнение для метода прямоугольника: 0.010148454607783046\n",
      "Уточнение для метода трапеции: 0.010148040719030759\n",
      "Уточнение для метода Симпсона: 0.010148268063513936\n",
      "\n",
      "Погрешность\n",
      "Метод прямоугольника: 3.40322390428964e-05\n",
      "Метод трапеции:6.785753370964695e-05\n",
      "Метод Симпсона: 2.2734448317830724e-07\n",
      "\n"
     ]
    }
   ],
   "source": [
    "def func(x):\n",
    "    return x**2/(x**4+256)\n",
    "\n",
    "\n",
    "def rectangle(f,x,h,n):\n",
    "    res = 0\n",
    "    for i in range(1,n):\n",
    "        res += f((x[i]+x[i-1])/2)\n",
    "    return h*res\n",
    "\n",
    "def trapezoid(f,x,h,n):\n",
    "    res = (f(x[0]) + f(x[n-1])) / 2;\n",
    "    for i in range(1,n-1):\n",
    "        res += f(x[i])\n",
    "    return h*res\n",
    "\n",
    "def sympson(f,x,h,n):\n",
    "    res = f(x[0]) + f(x[n-1]);\n",
    "    for i in range(1,n-1):\n",
    "        if(i%2==0):\n",
    "            res += 2*f(x[i])\n",
    "        else:\n",
    "            res += 4*f(x[i])\n",
    "    return h*res/3\n",
    "\n",
    "def rumb_romb_rich(Fh, Fkh, p):\n",
    "    return Fh + ((Fh - Fkh) / (pow(2,p) - 1))\n",
    "\n",
    "\n",
    "def get_x_n(X1,X0,h):\n",
    "    N = int((X1-X0)/h+1)\n",
    "    x = np.zeros(N)\n",
    "    x[0] = X0\n",
    "    for j in range(1,N):\n",
    "            x[j] = x[j-1] + h\n",
    "    return x, N\n",
    "\n",
    "def main():\n",
    "    x1 = 2\n",
    "    x0 = 0\n",
    "    h = [0.5, 0.25]\n",
    "    n = len(h)\n",
    "    r = np.zeros(n)\n",
    "    t = np.zeros(n)\n",
    "    s = np.zeros(n)\n",
    "    rrr = np.zeros((n,3))\n",
    "    for i in range(n):\n",
    "        x, N = get_x_n(x1,x0,h[i])\n",
    "        r[i] = rectangle(func,x, h[i], N)\n",
    "        t[i] = trapezoid(func,x, h[i], N)\n",
    "        s[i] = sympson(func, x, h[i], N)\n",
    "        print(\"h = {}\".format(h[i]))\n",
    "        print(\"Метод прямоугольника: {}\\nМетод трапеции:{}\\nМетод Симпсона{}\\n\".format(r[i],t[i],s[i]))\n",
    "    for i in range(1,n):\n",
    "        rrr[i-1][0] = rumb_romb_rich(r[i], r[i-1], 2)\n",
    "        rrr[i-1][1] = rumb_romb_rich(t[i], t[i-1], 2)\n",
    "        rrr[i-1][2] = rumb_romb_rich(s[i], s[i-1], 4)\n",
    "        print(\"h = {}\\nУточнение для метода прямоугольника: {}\\nУточнение для метода трапеции: {}\\nУточнение для метода Симпсона: {}\\n\".format([h[i-1],h[i]], rrr[i-1][0], rrr[i-1][1], rrr[i-1][2]))\n",
    "        print(\"Погрешность\\nМетод прямоугольника: {}\\nМетод трапеции:{}\\nМетод Симпсона: {}\\n\".format(abs(r[i] - rrr[i-1][0]), abs(t[i] - rrr[i-1][1]), abs(s[i] - rrr[i-1][2])))\n",
    "\n",
    "    \n",
    "if __name__ == \"__main__\":\n",
    "    main()"
   ]
  },
  {
   "cell_type": "code",
   "execution_count": null,
   "metadata": {},
   "outputs": [],
   "source": []
  }
 ],
 "metadata": {
  "kernelspec": {
   "display_name": "Python 3",
   "language": "python",
   "name": "python3"
  },
  "language_info": {
   "codemirror_mode": {
    "name": "ipython",
    "version": 3
   },
   "file_extension": ".py",
   "mimetype": "text/x-python",
   "name": "python",
   "nbconvert_exporter": "python",
   "pygments_lexer": "ipython3",
   "version": "3.8.3"
  }
 },
 "nbformat": 4,
 "nbformat_minor": 4
}
