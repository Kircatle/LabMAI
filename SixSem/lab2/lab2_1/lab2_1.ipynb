{
 "cells": [
  {
   "cell_type": "code",
   "execution_count": 1,
   "metadata": {},
   "outputs": [
    {
     "name": "stdout",
     "output_type": "stream",
     "text": [
      "Метод простых итераций:\n",
      "[[ 0.          0.7         0.75545106]\n",
      " [ 1.          0.75545106  0.73196567]\n",
      " [ 2.          0.73196567  0.74105599]\n",
      " [ 3.          0.74105599  0.73739452]\n",
      " [ 4.          0.73739452  0.73884719]\n",
      " [ 5.          0.73884719  0.7382673 ]\n",
      " [ 6.          0.7382673   0.73849822]\n",
      " [ 7.          0.73849822  0.73840618]\n",
      " [ 8.          0.73840618  0.73844285]\n",
      " [ 9.          0.73844285  0.73842824]\n",
      " [10.          0.73842824  0.73843406]]\n",
      "Метод Ньютона:\n",
      "[[0.00000000e+00 8.00000000e-01 5.83683622e-02]\n",
      " [1.00000000e+00 7.41631638e-01 3.19041210e-03]\n",
      " [2.00000000e+00 7.38441226e-01 8.82488493e-06]]\n"
     ]
    }
   ],
   "source": [
    "import numpy as np \n",
    "\n",
    "def func(x):\n",
    "    return np.exp(x)*x-x*x-1\n",
    "\n",
    "def dfunc(x):\n",
    "    return np.exp(x)*(x+1)-2*x\n",
    "\n",
    "def express_func(x):\n",
    "    return np.log((1+x*x)/x)\n",
    "\n",
    "def simple_iter(func,a,b,eps,flag):\n",
    "    q = 0.99\n",
    "    x = (a+b)/2\n",
    "    count = 0\n",
    "    ans = []\n",
    "    while(True):\n",
    "        ans.append([count, x, func(x)])\n",
    "        x0 = x\n",
    "        x = func(x)\n",
    "        count+=1\n",
    "        if (q/(1-q)*np.abs(x-x0)<eps) or (count>100):\n",
    "            break\n",
    "    if flag == True:\n",
    "        return np.array(ans)\n",
    "    else:\n",
    "        return np.array(ans[-1])\n",
    "\n",
    "\n",
    "def newton(func,dfunc,x0,eps,flag):\n",
    "    x = x0\n",
    "    count = 0\n",
    "    ans = []\n",
    "    while True:\n",
    "        ans.append([count, x, func(x)/dfunc(x)])\n",
    "        x0 = x\n",
    "        x -= func(x)/dfunc(x)\n",
    "        count+=1\n",
    "        if (np.abs(x-x0)<eps) or (count>100):\n",
    "            break\n",
    "    if flag == True:\n",
    "        return np.array(ans)\n",
    "    else:\n",
    "        return np.array(ans[-1])\n",
    "        \n",
    "print(\"Метод простых итераций:\")\n",
    "print(simple_iter(express_func,0.6,0.8,0.001, True))\n",
    "print(\"Метод Ньютона:\")\n",
    "print(newton(func,dfunc,0.8,0.001,True))            "
   ]
  },
  {
   "cell_type": "code",
   "execution_count": 6,
   "metadata": {},
   "outputs": [
    {
     "name": "stdout",
     "output_type": "stream",
     "text": [
      "Метод простых итераций:\n",
      "[[ 0.          0.7         0.75545106]\n",
      " [ 1.          0.75545106  0.73196567]\n",
      " [ 2.          0.73196567  0.74105599]\n",
      " [ 3.          0.74105599  0.73739452]\n",
      " [ 4.          0.73739452  0.73884719]\n",
      " [ 5.          0.73884719  0.7382673 ]\n",
      " [ 6.          0.7382673   0.73849822]\n",
      " [ 7.          0.73849822  0.73840618]\n",
      " [ 8.          0.73840618  0.73844285]\n",
      " [ 9.          0.73844285  0.73842824]\n",
      " [10.          0.73842824  0.73843406]]\n",
      "Метод Ньютона:\n",
      "[[0.00000000e+00 8.00000000e-01 5.83683622e-02]\n",
      " [1.00000000e+00 7.41631638e-01 3.19041210e-03]\n",
      " [2.00000000e+00 7.38441226e-01 8.82488493e-06]]\n"
     ]
    }
   ],
   "source": []
  },
  {
   "cell_type": "code",
   "execution_count": null,
   "metadata": {},
   "outputs": [],
   "source": []
  },
  {
   "cell_type": "code",
   "execution_count": null,
   "metadata": {},
   "outputs": [],
   "source": []
  }
 ],
 "metadata": {
  "kernelspec": {
   "display_name": "Python 3",
   "language": "python",
   "name": "python3"
  },
  "language_info": {
   "codemirror_mode": {
    "name": "ipython",
    "version": 3
   },
   "file_extension": ".py",
   "mimetype": "text/x-python",
   "name": "python",
   "nbconvert_exporter": "python",
   "pygments_lexer": "ipython3",
   "version": "3.8.3"
  }
 },
 "nbformat": 4,
 "nbformat_minor": 4
}
