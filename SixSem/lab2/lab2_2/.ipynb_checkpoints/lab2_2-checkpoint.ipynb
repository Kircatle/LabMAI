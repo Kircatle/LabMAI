{
 "cells": [
  {
   "cell_type": "code",
   "execution_count": 4,
   "metadata": {},
   "outputs": [],
   "source": [
    "import numpy as np"
   ]
  },
  {
   "cell_type": "code",
   "execution_count": 109,
   "metadata": {},
   "outputs": [],
   "source": [
    "def system(x):\n",
    "    return [2*x[0]-np.cos(x[1]), 2*x[1]-np.exp(x[0])]\n",
    "\n",
    "def express_system(x):\n",
    "    return [np.cos(x[1])/2, np.exp(x[0])/2]\n",
    "\n",
    "def dsys_dx1(x):\n",
    "    return [2,-np.exp(x[0])]\n",
    "\n",
    "def dsys_dx2(x):\n",
    "    return [np.sin(x[1]), 2]\n",
    "\n",
    "def simple_iter(system,x0,eps, flag):\n",
    "    q=0.99\n",
    "    count = 0\n",
    "    x = x0.copy()\n",
    "    ans = []\n",
    "    while True:\n",
    "        ans.append([count, np.array(x)])\n",
    "        x0 = x.copy()\n",
    "        x = system(x0)\n",
    "        count+=1\n",
    "        if q/(1-q)*max(abs(x0[0]-x[0]),(abs(x0[1]-x[1])))<eps or count>100:\n",
    "            break\n",
    "    if flag:\n",
    "        return np.array(ans)\n",
    "    else:\n",
    "        return np.array(ans[-1])\n",
    "\n",
    "def newton(sys, dsysdx1,dsysdx2,x0,eps, flag):\n",
    "    ans = []\n",
    "    count = 0\n",
    "    x = x0.copy()\n",
    "    while True:\n",
    "        x0 = x.copy()\n",
    "        ans.append([count,np.array(x)])\n",
    "        f = sys(x0)\n",
    "        fdx1 = dsysdx1(x0)\n",
    "        fdx2 = dsysdx2(x0)\n",
    "        x[0] -= (f[0]*fdx2[1]-f[1]*fdx2[0])/(fdx1[0]*fdx2[1]-fdx1[1]*fdx2[0])\n",
    "        x[1] -= (f[1]*fdx1[0]-fdx1[1]*f[0])/(fdx1[0]*fdx2[1]-fdx1[1]*fdx2[0])\n",
    "        count+=1\n",
    "        if max(abs(x0[0]-x[0]),(abs(x0[1]-x[1])))<eps or count > 100:\n",
    "            break\n",
    "    if flag:\n",
    "        return np.array(ans)\n",
    "    else:\n",
    "        return np.array(ans[-1])"
   ]
  },
  {
   "cell_type": "code",
   "execution_count": 110,
   "metadata": {},
   "outputs": [
    {
     "name": "stdout",
     "output_type": "stream",
     "text": [
      "Метод итераций:\n",
      "[[0 array([0.3, 0.8])]\n",
      " [1 array([0.34835335, 0.6749294 ])]\n",
      " [2 array([0.39037553, 0.70836639])]\n",
      " [3 array([0.37971285, 0.73876778])]\n",
      " [4 array([0.36964944, 0.73093238])]\n",
      " [5 array([0.37227615, 0.72361359])]\n",
      " [6 array([0.37470904, 0.72551682])]\n",
      " [7 array([0.3740783 , 0.72728407])]\n",
      " [8 array([0.37349141, 0.72682548])]\n",
      " [9 array([0.37364382, 0.72639904])]\n",
      " [10 array([0.37378547, 0.72650976])]\n",
      " [11 array([0.3737487 , 0.72661268])]\n",
      " [12 array([0.37371451, 0.72658596])]\n",
      " [13 array([0.37372339, 0.72656112])]]\n",
      "Метод Ньютона:\n",
      "[[0 array([0.3, 0.8])]\n",
      " [1 array([0.3750461 , 0.72558022])]\n",
      " [2 array([0.37372862, 0.72657074])]]\n"
     ]
    }
   ],
   "source": [
    "print(\"Метод итераций:\")\n",
    "print(simple_iter(express_system, [0.3, 0.8],0.001, True))\n",
    "print(\"Метод Ньютона:\")\n",
    "print(newton(system,dsys_dx1,dsys_dx2,[0.3, 0.8],0.001, True))"
   ]
  },
  {
   "cell_type": "code",
   "execution_count": null,
   "metadata": {},
   "outputs": [],
   "source": []
  },
  {
   "cell_type": "code",
   "execution_count": null,
   "metadata": {},
   "outputs": [],
   "source": []
  }
 ],
 "metadata": {
  "kernelspec": {
   "display_name": "Python 3",
   "language": "python",
   "name": "python3"
  },
  "language_info": {
   "codemirror_mode": {
    "name": "ipython",
    "version": 3
   },
   "file_extension": ".py",
   "mimetype": "text/x-python",
   "name": "python",
   "nbconvert_exporter": "python",
   "pygments_lexer": "ipython3",
   "version": "3.8.3"
  }
 },
 "nbformat": 4,
 "nbformat_minor": 4
}
