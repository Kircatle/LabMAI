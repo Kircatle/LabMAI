{
 "cells": [
  {
   "cell_type": "code",
   "execution_count": 16,
   "id": "ab42b5d9",
   "metadata": {},
   "outputs": [],
   "source": [
    "import numpy as np\n",
    "\n",
    "def f(x):\n",
    "    return 1/np.sqrt(2*np.pi)*np.exp(-(x*x)/2)\n",
    "\n",
    "def tr_integral(f,xmin,xmax,n):\n",
    "    dx=(xmax-xmin)/n\n",
    "    area=0\n",
    "    x=xmin\n",
    "    for i in range(n):\n",
    "        area+=dx*(f(x)+f(x+dx))/2\n",
    "        x+=dx\n",
    "    return area\n"
   ]
  },
  {
   "cell_type": "code",
   "execution_count": 43,
   "id": "d21a988b",
   "metadata": {},
   "outputs": [
    {
     "data": {
      "text/plain": [
       "0.9999999999196578"
      ]
     },
     "execution_count": 43,
     "metadata": {},
     "output_type": "execute_result"
    }
   ],
   "source": [
    "tr_integral(f,0,6.5,10000)*2"
   ]
  },
  {
   "cell_type": "code",
   "execution_count": null,
   "id": "6dbd23fe",
   "metadata": {},
   "outputs": [],
   "source": []
  }
 ],
 "metadata": {
  "kernelspec": {
   "display_name": "Python 3",
   "language": "python",
   "name": "python3"
  },
  "language_info": {
   "codemirror_mode": {
    "name": "ipython",
    "version": 3
   },
   "file_extension": ".py",
   "mimetype": "text/x-python",
   "name": "python",
   "nbconvert_exporter": "python",
   "pygments_lexer": "ipython3",
   "version": "3.8.3"
  }
 },
 "nbformat": 4,
 "nbformat_minor": 5
}
